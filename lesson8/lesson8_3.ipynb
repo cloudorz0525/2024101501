{
 "cells": [
  {
   "cell_type": "code",
   "execution_count": 1,
   "metadata": {},
   "outputs": [
    {
     "name": "stdout",
     "output_type": "stream",
     "text": [
      "陳得映\n",
      "李慈啟\n",
      "高俊男\n",
      "鄭琇亞\n",
      "詹忠光\n",
      "林佳蓉\n",
      "王坤安\n",
      "黃佩芬\n"
     ]
    }
   ],
   "source": [
    "import random\n",
    "def get_names(nums:int=2)->list[str]:\n",
    "    with open('names.txt',encoding='utf-8',mode='r') as file:\n",
    "        names_str = file.read()\n",
    "    names:list[str] = names_str.split(sep='\\n')\n",
    "    names = random.choices(names,k=nums)\n",
    "    return names\n",
    "nums = int(input('請輸入學生數量(最多10位):'))\n",
    "student_names:list[str] = get_names(nums=nums)\n",
    "for name in student_names:\n",
    "    print(name)"
   ]
  },
  {
   "cell_type": "code",
   "execution_count": 8,
   "metadata": {},
   "outputs": [],
   "source": [
    "def generate_students(names:list[str]) -> list[dict]:\n",
    "    students:list[dict] = []\n",
    "    for name in names:\n",
    "        chinese = random.randint(50, 100)\n",
    "        english = random.randint(50, 100)\n",
    "        math = random.randint(50, 100)\n",
    "        student = {'name':name,'chinese':chinese,'english':english,'math':math}\n",
    "        students.append(student)\n",
    "    return students  \n",
    "    "
   ]
  },
  {
   "cell_type": "code",
   "execution_count": 9,
   "metadata": {},
   "outputs": [
    {
     "data": {
      "text/plain": [
       "[{'name': '陳得映', 'chinese': 69, 'english': 98, 'math': 53},\n",
       " {'name': '李慈啟', 'chinese': 63, 'english': 89, 'math': 83},\n",
       " {'name': '高俊男', 'chinese': 92, 'english': 57, 'math': 97},\n",
       " {'name': '鄭琇亞', 'chinese': 90, 'english': 84, 'math': 89},\n",
       " {'name': '詹忠光', 'chinese': 59, 'english': 78, 'math': 63},\n",
       " {'name': '林佳蓉', 'chinese': 51, 'english': 91, 'math': 97},\n",
       " {'name': '王坤安', 'chinese': 99, 'english': 96, 'math': 97},\n",
       " {'name': '黃佩芬', 'chinese': 53, 'english': 59, 'math': 96}]"
      ]
     },
     "execution_count": 9,
     "metadata": {},
     "output_type": "execute_result"
    }
   ],
   "source": [
    "student=generate_students(names=student_names)\n",
    "student"
   ]
  }
 ],
 "metadata": {
  "kernelspec": {
   "display_name": "Python 3",
   "language": "python",
   "name": "python3"
  },
  "language_info": {
   "codemirror_mode": {
    "name": "ipython",
    "version": 3
   },
   "file_extension": ".py",
   "mimetype": "text/x-python",
   "name": "python",
   "nbconvert_exporter": "python",
   "pygments_lexer": "ipython3",
   "version": "3.10.15"
  }
 },
 "nbformat": 4,
 "nbformat_minor": 2
}
