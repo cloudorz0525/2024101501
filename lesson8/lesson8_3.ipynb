{
 "cells": [
  {
   "cell_type": "code",
   "execution_count": 19,
   "metadata": {},
   "outputs": [
    {
     "name": "stdout",
     "output_type": "stream",
     "text": [
      "景歡燦\n",
      "林珈發\n",
      "林志喜\n",
      "姜琬婷\n",
      "楊建安\n",
      "葉軍仰\n",
      "郭舜昇\n",
      "王泓泰\n"
     ]
    }
   ],
   "source": [
    "import random\n",
    "def get_names(nums:int=2)->list[str]:\n",
    "    with open('names.txt',encoding='utf-8',mode='r') as file:\n",
    "        names_str = file.read()\n",
    "    names:list[str] = names_str.split(sep='\\n')\n",
    "    names = random.choices(names,k=nums)\n",
    "    return names\n",
    "nums = int(input('請輸入學生數量(最多10位):'))\n",
    "student_names:list[str] = get_names(nums=nums)\n",
    "for name in student_names:\n",
    "    print(name)"
   ]
  },
  {
   "cell_type": "code",
   "execution_count": 18,
   "metadata": {},
   "outputs": [],
   "source": [
    "def generate_students(names:list[str]) -> list[dict]:\n",
    "    students:list[dict] = []\n",
    "    for name in names:\n",
    "        chinese = random.randint(50, 100)\n",
    "        english = random.randint(50, 100)\n",
    "        math = random.randint(50, 100)\n",
    "        student = {'name':name,'chinese':chinese,'english':english,'math':math}\n",
    "        students.append(student)\n",
    "    return students  \n",
    "    "
   ]
  },
  {
   "cell_type": "code",
   "execution_count": 20,
   "metadata": {},
   "outputs": [
    {
     "data": {
      "text/plain": [
       "[{'name': '景歡燦', 'chinese': 87, 'english': 71, 'math': 57},\n",
       " {'name': '林珈發', 'chinese': 91, 'english': 56, 'math': 53},\n",
       " {'name': '林志喜', 'chinese': 74, 'english': 78, 'math': 87},\n",
       " {'name': '姜琬婷', 'chinese': 96, 'english': 84, 'math': 80},\n",
       " {'name': '楊建安', 'chinese': 63, 'english': 77, 'math': 86},\n",
       " {'name': '葉軍仰', 'chinese': 52, 'english': 69, 'math': 66},\n",
       " {'name': '郭舜昇', 'chinese': 87, 'english': 84, 'math': 66},\n",
       " {'name': '王泓泰', 'chinese': 59, 'english': 70, 'math': 78}]"
      ]
     },
     "execution_count": 20,
     "metadata": {},
     "output_type": "execute_result"
    }
   ],
   "source": [
    "student=generate_students(names=student_names)\n",
    "student"
   ]
  },
  {
   "cell_type": "code",
   "execution_count": null,
   "metadata": {},
   "outputs": [],
   "source": [
    "import random\n",
    "def get_names(nums:int=2)->list[str]:\n",
    "    with open(\"names.txt\",\"r\",encoding=\"utf-8\") as file:\n",
    "        names_str = file.read()\n",
    "    names = names_str.split(sep=\"\\n\")\n",
    "    names =random.choices(names,k=nums)\n",
    "    return names\n"
   ]
  },
  {
   "cell_type": "code",
   "execution_count": 3,
   "metadata": {},
   "outputs": [
    {
     "name": "stdout",
     "output_type": "stream",
     "text": [
      "姓名 : 昌嘉洋\n",
      "身高 : 172\n",
      "體重 : 92\n",
      "BMI : 31.10\n",
      "狀態 : 中度肥胖\n",
      "=======================\n",
      "姓名 : 郭舜昇\n",
      "身高 : 169\n",
      "體重 : 69\n",
      "BMI : 24.16\n",
      "狀態 : 過重\n",
      "=======================\n",
      "姓名 : 張韋成\n",
      "身高 : 186\n",
      "體重 : 79\n",
      "BMI : 22.84\n",
      "狀態 : 正常範圍\n",
      "=======================\n",
      "姓名 : 柯韋成\n",
      "身高 : 146\n",
      "體重 : 105\n",
      "BMI : 49.26\n",
      "狀態 : 重度肥胖\n",
      "=======================\n",
      "姓名 : 陳家年\n",
      "身高 : 186\n",
      "體重 : 88\n",
      "BMI : 25.44\n",
      "狀態 : 過重\n",
      "=======================\n",
      "姓名 : 劉雯芬\n",
      "身高 : 162\n",
      "體重 : 68\n",
      "BMI : 25.91\n",
      "狀態 : 過重\n",
      "=======================\n",
      "姓名 : 陳逸華\n",
      "身高 : 187\n",
      "體重 : 98\n",
      "BMI : 28.02\n",
      "狀態 : 輕度肥胖\n",
      "=======================\n",
      "姓名 : 吳欣書\n",
      "身高 : 141\n",
      "體重 : 67\n",
      "BMI : 33.70\n",
      "狀態 : 中度肥胖\n",
      "=======================\n"
     ]
    }
   ],
   "source": [
    "def generate_bmi(names:list[str])->list[dict]:\n",
    "    students=[]\n",
    "    for name in names:\n",
    "        height = random.randint(140,190)\n",
    "        weight = random.randint(50,110)\n",
    "        BMI = weight / (height/100)**2\n",
    "        if   BMI >=35:\n",
    "          status=\"重度肥胖\"\n",
    "        elif BMI >= 30:\n",
    "          status=\"中度肥胖\"\n",
    "        elif BMI >= 27:\n",
    "          status=\"輕度肥胖\"\n",
    "        elif BMI >= 24:\n",
    "          status=\"過重\"\n",
    "        elif BMI >= 18.5:\n",
    "          status=\"正常範圍\"\n",
    "        else:\n",
    "          status=\"體重過輕\"\n",
    "        \n",
    "        stu = {\"姓名\":name,\"身高\":height,\"體重\":weight,\"BMI\":f\"{BMI:.2f}\",\"狀態\":status}\n",
    "        students.append(stu)\n",
    "    return students\n",
    "nums = int(input(\"請輸入人數:\"))\n",
    "student_names = get_names(nums=nums)\n",
    "student_bmi = generate_bmi(names=student_names)\n",
    "for student in student_bmi:\n",
    "    print(f\"姓名 : {student['姓名']}\")\n",
    "    print(f\"身高 : {student['身高']}\")\n",
    "    print(f\"體重 : {student['體重']}\")\n",
    "    print(f\"BMI : {student['BMI']}\")\n",
    "    print(f\"狀態 : {student['狀態']}\")\n",
    "    print(\"=======================\")"
   ]
  }
 ],
 "metadata": {
  "kernelspec": {
   "display_name": "Python 3",
   "language": "python",
   "name": "python3"
  },
  "language_info": {
   "codemirror_mode": {
    "name": "ipython",
    "version": 3
   },
   "file_extension": ".py",
   "mimetype": "text/x-python",
   "name": "python",
   "nbconvert_exporter": "python",
   "pygments_lexer": "ipython3",
   "version": "3.10.15"
  }
 },
 "nbformat": 4,
 "nbformat_minor": 2
}
