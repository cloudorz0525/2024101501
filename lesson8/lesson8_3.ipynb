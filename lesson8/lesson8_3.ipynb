{
 "cells": [
  {
   "cell_type": "code",
   "execution_count": 19,
   "metadata": {},
   "outputs": [
    {
     "name": "stdout",
     "output_type": "stream",
     "text": [
      "景歡燦\n",
      "林珈發\n",
      "林志喜\n",
      "姜琬婷\n",
      "楊建安\n",
      "葉軍仰\n",
      "郭舜昇\n",
      "王泓泰\n"
     ]
    }
   ],
   "source": [
    "import random\n",
    "def get_names(nums:int=2)->list[str]:\n",
    "    with open('names.txt',encoding='utf-8',mode='r') as file:\n",
    "        names_str = file.read()\n",
    "    names:list[str] = names_str.split(sep='\\n')\n",
    "    names = random.choices(names,k=nums)\n",
    "    return names\n",
    "nums = int(input('請輸入學生數量(最多10位):'))\n",
    "student_names:list[str] = get_names(nums=nums)\n",
    "for name in student_names:\n",
    "    print(name)"
   ]
  },
  {
   "cell_type": "code",
   "execution_count": 18,
   "metadata": {},
   "outputs": [],
   "source": [
    "def generate_students(names:list[str]) -> list[dict]:\n",
    "    students:list[dict] = []\n",
    "    for name in names:\n",
    "        chinese = random.randint(50, 100)\n",
    "        english = random.randint(50, 100)\n",
    "        math = random.randint(50, 100)\n",
    "        student = {'name':name,'chinese':chinese,'english':english,'math':math}\n",
    "        students.append(student)\n",
    "    return students  \n",
    "    "
   ]
  },
  {
   "cell_type": "code",
   "execution_count": 20,
   "metadata": {},
   "outputs": [
    {
     "data": {
      "text/plain": [
       "[{'name': '景歡燦', 'chinese': 87, 'english': 71, 'math': 57},\n",
       " {'name': '林珈發', 'chinese': 91, 'english': 56, 'math': 53},\n",
       " {'name': '林志喜', 'chinese': 74, 'english': 78, 'math': 87},\n",
       " {'name': '姜琬婷', 'chinese': 96, 'english': 84, 'math': 80},\n",
       " {'name': '楊建安', 'chinese': 63, 'english': 77, 'math': 86},\n",
       " {'name': '葉軍仰', 'chinese': 52, 'english': 69, 'math': 66},\n",
       " {'name': '郭舜昇', 'chinese': 87, 'english': 84, 'math': 66},\n",
       " {'name': '王泓泰', 'chinese': 59, 'english': 70, 'math': 78}]"
      ]
     },
     "execution_count": 20,
     "metadata": {},
     "output_type": "execute_result"
    }
   ],
   "source": [
    "student=generate_students(names=student_names)\n",
    "student"
   ]
  },
  {
   "cell_type": "code",
   "execution_count": 45,
   "metadata": {},
   "outputs": [],
   "source": [
    "import random\n",
    "def get_names(nums:int=2)->list[str]:\n",
    "    with open(\"names.txt\",\"r\",encoding=\"utf-8\") as file:\n",
    "        names_str = file.read()\n",
    "    names = names_str.split(sep=\"\\n\")\n",
    "    names =random.choices(names,k=nums)\n",
    "    return names\n"
   ]
  },
  {
   "cell_type": "code",
   "execution_count": 50,
   "metadata": {},
   "outputs": [
    {
     "name": "stdout",
     "output_type": "stream",
     "text": [
      "姓名 : 王怡珊\n",
      "身高 : 190\n",
      "體重 : 72\n",
      "BMI : 19.94\n",
      "狀態 : 正常範圍\n",
      "=======================\n",
      "姓名 : 余丞苓\n",
      "身高 : 153\n",
      "體重 : 78\n",
      "BMI : 33.32\n",
      "狀態 : 中度肥胖\n",
      "=======================\n",
      "姓名 : 金宜芳\n",
      "身高 : 160\n",
      "體重 : 87\n",
      "BMI : 33.98\n",
      "狀態 : 中度肥胖\n",
      "=======================\n",
      "姓名 : 洪奎夫\n",
      "身高 : 144\n",
      "體重 : 94\n",
      "BMI : 45.33\n",
      "狀態 : 重度肥胖\n",
      "=======================\n",
      "姓名 : 王品星\n",
      "身高 : 180\n",
      "體重 : 69\n",
      "BMI : 21.30\n",
      "狀態 : 正常範圍\n",
      "=======================\n"
     ]
    }
   ],
   "source": [
    "def generate_bmi(names:list[str])->list[dict]:\n",
    "    students=[]\n",
    "    for name in names:\n",
    "        height = random.randint(140,190)\n",
    "        weight = random.randint(50,110)\n",
    "        BMI = weight / (height/100)**2\n",
    "        if   BMI >=35:\n",
    "          status=\"重度肥胖\"\n",
    "        elif BMI >= 30:\n",
    "          status=\"中度肥胖\"\n",
    "        elif BMI >= 27:\n",
    "          status=\"輕度肥胖\"\n",
    "        elif BMI >= 24:\n",
    "          status=\"過重\"\n",
    "        elif BMI >= 18.5:\n",
    "          status=\"正常範圍\"\n",
    "        else:\n",
    "          status=\"體重過輕\"\n",
    "        \n",
    "        stu = {\"姓名\":name,\"身高\":height,\"體重\":weight,\"BMI\":f\"{BMI:.2f}\",\"狀態\":status}\n",
    "        students.append(stu)\n",
    "    return students\n",
    "nums = int(input(\"請輸入人數:\"))\n",
    "student_names = get_names(nums=nums)\n",
    "student_bmi = generate_bmi(names=student_names)\n",
    "for student in student_bmi:\n",
    "    print(f\"姓名 : {student['姓名']}\")\n",
    "    print(f\"身高 : {student['身高']}\")\n",
    "    print(f\"體重 : {student['體重']}\")\n",
    "    print(f\"BMI : {student['BMI']}\")\n",
    "    print(f\"狀態 : {student['狀態']}\")\n",
    "    print(\"=======================\")"
   ]
  }
 ],
 "metadata": {
  "kernelspec": {
   "display_name": "Python 3",
   "language": "python",
   "name": "python3"
  },
  "language_info": {
   "codemirror_mode": {
    "name": "ipython",
    "version": 3
   },
   "file_extension": ".py",
   "mimetype": "text/x-python",
   "name": "python",
   "nbconvert_exporter": "python",
   "pygments_lexer": "ipython3",
   "version": "3.10.15"
  }
 },
 "nbformat": 4,
 "nbformat_minor": 2
}
