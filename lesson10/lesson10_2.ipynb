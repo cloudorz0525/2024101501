{
 "cells": [
  {
   "cell_type": "code",
   "execution_count": 2,
   "metadata": {},
   "outputs": [
    {
     "name": "stdout",
     "output_type": "stream",
     "text": [
      "下載成功\n"
     ]
    }
   ],
   "source": [
    "import requests\n",
    "from requests import Response\n",
    "url= 'https://data.moenv.gov.tw/api/v2/aqx_p_488?api_key=e8dd42e6-9b8b-43f8-991e-b3dee723a52d&limit=1000&sort=datacreationdate desc&format=CSV'\n",
    "r:Response=requests.get(url)\n",
    "if r.ok:\n",
    "    print('下載成功')\n"
   ]
  },
  {
   "cell_type": "code",
   "execution_count": null,
   "metadata": {},
   "outputs": [],
   "source": [
    "from io import StringIO\n",
    "import csv\n",
    "data:str=r.text\n",
    "file=StringIO(data)\n",
    "dictReader= csv.DictReader(file,fieldnames=['sitename','county','aqi','pollutant','status','pm2.5','windspeed','datacreationdate'],restkey='不要')\n",
    "next(dictReader)\n",
    "datas:list[dict]=list(dictReader)\n",
    "\n",
    "for site in datas:\n",
    "    del site['不要']\n",
    "    print(site)\n"
   ]
  },
  {
   "cell_type": "code",
   "execution_count": 4,
   "metadata": {},
   "outputs": [],
   "source": [
    "with open('aqi.csv',mode='w',encoding='utf-8',newline='') as file:\n",
    "    dict_writer = csv.DictWriter(file,fieldnames=['sitename','county','aqi','pollutant','status','pm2.5','windspeed','datacreationdate'])\n",
    "    dict_writer.writeheader()\n",
    "    dict_writer.writerows(datas)"
   ]
  },
  {
   "cell_type": "code",
   "execution_count": 12,
   "metadata": {},
   "outputs": [
    {
     "name": "stdout",
     "output_type": "stream",
     "text": [
      "姓名:張慧君\n",
      "身高:174\n",
      "體重:84\n",
      "BMI:27.74\n",
      "狀態:您的體重:輕度肥胖\n",
      "===========================\n",
      "姓名:林希啟\n",
      "身高:165\n",
      "體重:101\n",
      "BMI:37.1\n",
      "狀態:您的體重:重度肥胖\n",
      "===========================\n",
      "姓名:張莉雯\n",
      "身高:157\n",
      "體重:66\n",
      "BMI:26.78\n",
      "狀態:您的體重:過重\n",
      "===========================\n",
      "姓名:林向鈺\n",
      "身高:178\n",
      "體重:99\n",
      "BMI:31.25\n",
      "狀態:您的體重:中度肥胖\n",
      "===========================\n",
      "姓名:鄭孟芳\n",
      "身高:159\n",
      "體重:96\n",
      "BMI:37.97\n",
      "狀態:您的體重:重度肥胖\n",
      "===========================\n",
      "[{'姓名': '張慧君', '身高': 174, '體重': 84, 'BMI': 27.74, '狀態': '您的體重:輕度肥胖'}, {'姓名': '林希啟', '身高': 165, '體重': 101, 'BMI': 37.1, '狀態': '您的體重:重度肥胖'}, {'姓名': '張莉雯', '身高': 157, '體重': 66, 'BMI': 26.78, '狀態': '您的體重:過重'}, {'姓名': '林向鈺', '身高': 178, '體重': 99, 'BMI': 31.25, '狀態': '您的體重:中度肥胖'}, {'姓名': '鄭孟芳', '身高': 159, '體重': 96, 'BMI': 37.97, '狀態': '您的體重:重度肥胖'}]\n"
     ]
    }
   ],
   "source": [
    "import random\n",
    "import csv\n",
    "class BMI(): \n",
    "    def __init__(self,name:str,height:int,weight:int): \n",
    "        self.name = name\n",
    "        self.height = height\n",
    "        self.weight = weight\n",
    "\n",
    "    def get_bmi(self)->float: #取得bmi\n",
    "        return round(self.weight / (self.height/100) ** 2,ndigits=2)\n",
    "    \n",
    "    def get_status(self)->str:  #取得status\n",
    "        bmi = self.get_bmi()\n",
    "        if bmi >=35:\n",
    "            status = \"您的體重:重度肥胖\"\n",
    "        elif bmi >= 30:\n",
    "            status = \"您的體重:中度肥胖\"\n",
    "        elif bmi >= 27:\n",
    "            status = \"您的體重:輕度肥胖\"\n",
    "        elif bmi >= 24:\n",
    "            status = \"您的體重:過重\"\n",
    "        elif bmi >= 18.5:\n",
    "            status = \"您的體重:正常範圍\"\n",
    "        else:\n",
    "            status = \"您的體重:體重過輕\"\n",
    "        return status\n",
    "\n",
    "def get_name(nums:int=2)->list[str]: #抓取name.txt裡面的名字\n",
    "    with open('names.txt',mode='r',encoding='utf-8') as file:\n",
    "            names_str = file.read()\n",
    "    names = names_str.split()\n",
    "    names = random.choices(names,k=nums)\n",
    "    return  names\n",
    "     \n",
    "def generate_bmi(names:list[str])->list[BMI]: \n",
    "    students:list[BMI] = []\n",
    "    for name in names:\n",
    "        height = random.randint(140,190)\n",
    "        weight = random.randint(50,110)\n",
    "        student_STATUS = BMI(name, height, weight)\n",
    "        students.append(student_STATUS) #list實體化 \n",
    "    return students\n",
    "\n",
    "if __name__ == '__main__':\n",
    "    nums = int(input('請輸入人數:'))\n",
    "    names:list[str] = get_name(nums=nums)\n",
    "    students:list[BMI] = generate_bmi(names=names)\n",
    "    file_dict:list[dict] = []\n",
    "    for student in students:\n",
    "        print(f\"姓名:{student.name}\")\n",
    "        print(f\"身高:{student.height}\")\n",
    "        print(f\"體重:{student.weight}\")\n",
    "        print(f\"BMI:{student.get_bmi()}\")\n",
    "        print(f\"狀態:{student.get_status()}\")\n",
    "        print(\"===========================\")\n",
    "        student_dict={'姓名':student.name,'身高':student.height,'體重':student.weight,'BMI':student.get_bmi(),'狀態':student.get_status()}\n",
    "        file_dict.append(student_dict)\n",
    "    print(file_dict)    \n"
   ]
  },
  {
   "cell_type": "code",
   "execution_count": 13,
   "metadata": {},
   "outputs": [],
   "source": [
    "with open('bmi.csv',mode='w',encoding='utf-8',newline=\"\") as file:\n",
    "   dict_writer = csv.DictWriter(file,['姓名',\"身高\",'體重','BMI','狀態'])\n",
    "   dict_writer.writeheader()\n",
    "   dict_writer.writerows(file_dict) "
   ]
  }
 ],
 "metadata": {
  "kernelspec": {
   "display_name": "Python 3",
   "language": "python",
   "name": "python3"
  },
  "language_info": {
   "codemirror_mode": {
    "name": "ipython",
    "version": 3
   },
   "file_extension": ".py",
   "mimetype": "text/x-python",
   "name": "python",
   "nbconvert_exporter": "python",
   "pygments_lexer": "ipython3",
   "version": "3.10.15"
  }
 },
 "nbformat": 4,
 "nbformat_minor": 2
}
