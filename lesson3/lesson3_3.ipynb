{
 "cells": [
  {
   "cell_type": "markdown",
   "metadata": {},
   "source": [
    "###有input的數學運算"
   ]
  },
  {
   "cell_type": "code",
   "execution_count": 1,
   "metadata": {},
   "outputs": [
    {
     "name": "stdout",
     "output_type": "stream",
     "text": [
      "上底:3,下底:5,高:6\n",
      "面積:24.0\n"
     ]
    }
   ],
   "source": [
    "#求梯型面積\n",
    "top = int(input(\"請輸入上底:\"))\n",
    "bottom = int(input(\"請輸入下底:\"))\n",
    "height = int(input(\"請輸入高:\"))\n",
    "\n",
    "area = (top + bottom) * height / 2\n",
    "print(f'上底:{top},下底:{bottom},高:{height}')\n",
    "print(f'面積:{area}')"
   ]
  },
  {
   "cell_type": "code",
   "execution_count": 2,
   "metadata": {},
   "outputs": [
    {
     "name": "stdout",
     "output_type": "stream",
     "text": [
      "半徑:5.2,面積=84.94876124800001\n"
     ]
    }
   ],
   "source": [
    "#求圓面積\n",
    "radius = float(input('請輸入半徑:'))\n",
    "pi = 3.1415962\n",
    "print(f\"半徑:{radius},面積={pi * radius ** 2}\")"
   ]
  },
  {
   "cell_type": "code",
   "execution_count": 3,
   "metadata": {},
   "outputs": [
    {
     "name": "stdout",
     "output_type": "stream",
     "text": [
      "半徑:5.2,面積=84.95\n"
     ]
    }
   ],
   "source": [
    "#求圓面積\n",
    "#求小數點:.2f\n",
    "radius = float(input('請輸入半徑:'))\n",
    "pi = 3.1415962\n",
    "area = pi * radius ** 2\n",
    "print(f\"半徑:{radius},面積={area:.2f}\")"
   ]
  },
  {
   "cell_type": "code",
   "execution_count": 1,
   "metadata": {},
   "outputs": [
    {
     "name": "stdout",
     "output_type": "stream",
     "text": [
      "角度是:30.0\n"
     ]
    }
   ],
   "source": [
    "#三角函數\n",
    "#asin是\n",
    "#degrees是\n",
    "#ndigits是\n",
    "import math\n",
    "side = float(input(\"請輸入對邊:\"))\n",
    "another_side = float(input(\"請輸入斜邊:\"))\n",
    "radian = math.asin(side / another_side)\n",
    "degree = math.degrees(radian)\n",
    "print(f'角度是:{round(degree,ndigits=2)}')"
   ]
  },
  {
   "cell_type": "code",
   "execution_count": 3,
   "metadata": {},
   "outputs": [
    {
     "name": "stdout",
     "output_type": "stream",
     "text": [
      "公斤:50.0,磅:110.2130\n"
     ]
    }
   ],
   "source": [
    "#公斤轉磅\n",
    "#1公斤=2.20426磅\n",
    "#kilograms,pounds\n",
    "kilograms=float(input('請輸入公斤'))\n",
    "pounds=kilograms*2.20426\n",
    "print(f'公斤:{kilograms},磅:{pounds:.4f}')\n"
   ]
  },
  {
   "cell_type": "code",
   "execution_count": 6,
   "metadata": {},
   "outputs": [
    {
     "name": "stdout",
     "output_type": "stream",
     "text": [
      "磅:110.213,公斤:50.0000\n"
     ]
    }
   ],
   "source": [
    "#磅轉公斤\n",
    "#1公斤=2.20426磅\n",
    "#kilograms,pounds\n",
    "pounds=float(input('請輸入磅'))\n",
    "kilograms=pounds/2.20426\n",
    "print(f'磅:{pounds},公斤:{kilograms:.4f}')"
   ]
  }
 ],
 "metadata": {
  "kernelspec": {
   "display_name": "Python 3",
   "language": "python",
   "name": "python3"
  },
  "language_info": {
   "codemirror_mode": {
    "name": "ipython",
    "version": 3
   },
   "file_extension": ".py",
   "mimetype": "text/x-python",
   "name": "python",
   "nbconvert_exporter": "python",
   "pygments_lexer": "ipython3",
   "version": "3.10.15"
  }
 },
 "nbformat": 4,
 "nbformat_minor": 2
}
