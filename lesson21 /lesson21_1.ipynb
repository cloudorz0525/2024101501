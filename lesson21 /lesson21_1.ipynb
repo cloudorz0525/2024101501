{
 "cells": [
  {
   "cell_type": "code",
   "execution_count": 14,
   "metadata": {},
   "outputs": [],
   "source": [
    "import os\n",
    "from dotenv import load_dotenv\n",
    "load_dotenv()\n",
    "key=os.environ['Gemini_API_KEY']"
   ]
  },
  {
   "cell_type": "code",
   "execution_count": 15,
   "metadata": {},
   "outputs": [
    {
     "name": "stdout",
     "output_type": "stream",
     "text": [
      "```html\n",
      "<!DOCTYPE html>\n",
      "<html lang=\"zh-TW\">\n",
      "<head>\n",
      "    <meta charset=\"UTF-8\">\n",
      "    <meta name=\"viewport\" content=\"width=device-width, initial-scale=1.0\">\n",
      "    <title>如何學習 Python</title>\n",
      "    <style>\n",
      "        body {\n",
      "            font-family: sans-serif;\n",
      "            line-height: 1.6;\n",
      "        }\n",
      "        h1, h2 {\n",
      "            color: #333;\n",
      "        }\n",
      "        ul {\n",
      "            list-style-type: disc;\n",
      "            margin-left: 20px;\n",
      "        }\n",
      "        a {\n",
      "            color: #007bff;\n",
      "            text-decoration: none;\n",
      "        }\n",
      "        a:hover {\n",
      "            text-decoration: underline;\n",
      "        }\n",
      "    </style>\n",
      "</head>\n",
      "<body>\n",
      "    <h1>如何學習 Python</h1>\n",
      "\n",
      "    <p>學習 Python 的過程可以分解成幾個階段，循序漸進地學習才能事半功倍。</p>\n",
      "\n",
      "    <h2>1. 奠定基礎</h2>\n",
      "    <ul>\n",
      "        <li><strong>選擇學習資源：</strong>  網路上有很多免費的學習資源，例如：</li>\n",
      "        <ul>\n",
      "            <li><a href=\"https://www.w3schools.com/python/\">W3Schools Python 教程</a> (入門級)</li>\n",
      "            <li><a href=\"https://docs.python.org/3/tutorial/\">官方 Python 教程</a> (較深入，適合有一定程式設計基礎者)</li>\n",
      "            <li><a href=\"https://www.codecademy.com/learn/learn-python-3\">Codecademy Python 課程</a> (互動式學習)</li>\n",
      "            <li><a href=\"https://www.coursera.org/\">Coursera</a> 和 <a href=\"https://www.udemy.com/\">Udemy</a> 上也有許多 Python 課程，付費課程通常更系統化和完整。</li>\n",
      "        </ul>\n",
      "        <li><strong>安裝 Python：</strong> 從官方網站 <a href=\"https://www.python.org/\">python.org</a> 下載並安裝適合你作業系統的 Python 版本。</li>\n",
      "        <li><strong>選擇一個 IDE 或文字編輯器：</strong>  例如 VS Code, PyCharm, Thonny (新手推薦)。  IDE 提供程式碼自動完成、除錯等功能，能提升開發效率。</li>\n",
      "        <li><strong>學習基本語法：</strong> 包括變數、資料型別、運算子、條件判斷、迴圈等。</li>\n",
      "    </ul>\n",
      "\n",
      "\n",
      "    <h2>2. 練習實作</h2>\n",
      "    <ul>\n",
      "        <li><strong>完成線上練習題：</strong>  大多數線上教程都提供練習題，務必親自動手完成。</li>\n",
      "        <li><strong>自行設計小型專案：</strong>  例如：計算器、文字遊戲、簡單的資料處理程式等。  從小專案開始，逐步提升你的技能。</li>\n",
      "        <li><strong>參與線上社群：</strong>  例如 Stack Overflow, Reddit 的 Python 社群，可以向他人請教問題，學習解決問題的方法。</li>\n",
      "    </ul>\n",
      "\n",
      "    <h2>3. 深入學習</h2>\n",
      "    <ul>\n",
      "        <li><strong>學習物件導向程式設計 (OOP)：</strong>  這是 Python 的重要概念，理解 OOP 能夠寫出更結構化、可維護的程式碼。</li>\n",
      "        <li><strong>學習常用的 Python 函式庫：</strong> 例如：NumPy (數值運算), Pandas (資料分析), Matplotlib (資料視覺化), Requests (網路請求), Django/Flask (網頁開發)。</li>\n",
      "        <li><strong>閱讀 Python 的官方文件：</strong>  學習更深入的知識，以及各函式庫的使用方法。</li>\n",
      "        <li><strong>參與開源專案：</strong>  這是一個提升技能和學習他人程式碼的絕佳方式。</li>\n",
      "    </ul>\n",
      "\n",
      "    <h2>4. 持續學習</h2>\n",
      "    <p>Python 的生態系不斷在發展，持續學習新的知識和技術是很重要的。  多閱讀相關文章、參與社群、參與專案，才能保持競爭力。</p>\n",
      "\n",
      "\n",
      "</body>\n",
      "</html>\n",
      "```\n",
      "\n"
     ]
    },
    {
     "name": "stderr",
     "output_type": "stream",
     "text": [
      "Bad pipe message: %s [b'\"Google Chrome\";v=\"131\", \"Chromium\";v=\"131\", \"Not_A Brand']\n",
      "Bad pipe message: %s [b'ol: max-age=0\\r\\nsec-ch-ua: \"Google Chrome\";v=\"131\", \"Chromium\";v=\"131\", \"Not_A Brand\";v=\"24\"\\r\\nsec-ch-ua-mobile: ?0\\r\\n']\n",
      "Bad pipe message: %s [b'c-ch-ua-platform: \"Windows\"\\r\\nUpgrade-Insecure-Requests: 1\\r\\nUser-Agent: Mozilla/5.0 (Windows NT 10.0; Win64; x64) A', b'leWebKit/537.36 (KHTML, like Gecko) Chrome/131.0.0.0 Safari/537.36\\r\\nAccept: text/html,application/xhtml+xml,app']\n",
      "Bad pipe message: %s [b'cation/xml;q=0.9,image/avif,image/webp,image/apng,*/*;q=0.8,application/signed-exchange;v=b3;q=0.7\\r\\nSec-Fet', b'-Site: none\\r\\nSec-Fetch-Mode: navigate\\r\\nSec-Fetch-User: ?1\\r\\nSec-Fetch-Dest: document\\r\\nAccept-Encodi']\n"
     ]
    }
   ],
   "source": [
    "import google.generativeai as genai\n",
    "\n",
    "genai.configure(api_key=key)\n",
    "model = genai.GenerativeModel(\"gemini-1.5-flash\")\n",
    "response = model.generate_content(\"如何學習python?,回應請輸出成為html格式\")\n",
    "print(response.text)"
   ]
  }
 ],
 "metadata": {
  "kernelspec": {
   "display_name": "Python 3",
   "language": "python",
   "name": "python3"
  },
  "language_info": {
   "codemirror_mode": {
    "name": "ipython",
    "version": 3
   },
   "file_extension": ".py",
   "mimetype": "text/x-python",
   "name": "python",
   "nbconvert_exporter": "python",
   "pygments_lexer": "ipython3",
   "version": "3.10.15"
  }
 },
 "nbformat": 4,
 "nbformat_minor": 2
}
