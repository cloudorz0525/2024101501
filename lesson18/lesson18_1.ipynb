{
 "cells": [
  {
   "cell_type": "code",
   "execution_count": 17,
   "metadata": {},
   "outputs": [
    {
     "data": {
      "text/plain": [
       "['/workspaces/2024101501/lesson18/stations/每日各站進出站人數2023.csv',\n",
       " '/workspaces/2024101501/lesson18/stations/每日各站進出站人數2021.csv',\n",
       " '/workspaces/2024101501/lesson18/stations/每日各站進出站人數2020.csv',\n",
       " '/workspaces/2024101501/lesson18/stations/每日各站進出站人數20190423-20191231.csv',\n",
       " '/workspaces/2024101501/lesson18/stations/每日各站進出站人數2022.csv']"
      ]
     },
     "execution_count": 17,
     "metadata": {},
     "output_type": "execute_result"
    }
   ],
   "source": [
    "import os\n",
    "current_folder = os.getcwd()\n",
    "stations_folder = os.path.join(current_folder,'stations')\n",
    "csv_abs_files = []\n",
    "for filename in os.listdir(stations_folder):\n",
    "    if '每日各站' in filename:\n",
    "        csv_abs_files.append(os.path.join(stations_folder,filename))\n",
    "\n",
    "csv_abs_files"
   ]
  },
  {
   "cell_type": "code",
   "execution_count": 18,
   "metadata": {},
   "outputs": [],
   "source": [
    "import pandas as pd\n",
    "station_df = pd.read_csv(csv_abs_files[0])"
   ]
  },
  {
   "cell_type": "code",
   "execution_count": 22,
   "metadata": {},
   "outputs": [],
   "source": [
    "info_path = os.path.join(stations_folder,'台鐵車站資訊.csv')\n",
    "info_df = pd.read_csv(info_path)"
   ]
  },
  {
   "cell_type": "code",
   "execution_count": 23,
   "metadata": {},
   "outputs": [],
   "source": [
    "merge_df = pd.merge(station_df, info_df,how='left',left_on='staCode',right_on='stationCode')"
   ]
  }
 ],
 "metadata": {
  "kernelspec": {
   "display_name": "Python 3",
   "language": "python",
   "name": "python3"
  },
  "language_info": {
   "codemirror_mode": {
    "name": "ipython",
    "version": 3
   },
   "file_extension": ".py",
   "mimetype": "text/x-python",
   "name": "python",
   "nbconvert_exporter": "python",
   "pygments_lexer": "ipython3",
   "version": "3.10.15"
  }
 },
 "nbformat": 4,
 "nbformat_minor": 2
}
